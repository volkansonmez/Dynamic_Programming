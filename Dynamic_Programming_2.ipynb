{
 "cells": [
  {
   "cell_type": "code",
   "execution_count": 1,
   "metadata": {},
   "outputs": [
    {
     "name": "stdout",
     "output_type": "stream",
     "text": [
      "[[0 1 2 3 4 3]\n",
      " [0 0 1 2 3 2]\n",
      " [0 0 0 1 2 1]\n",
      " [0 0 0 0 1 0]\n",
      " [0 0 0 0 0 1]\n",
      " [0 0 0 0 0 0]]\n",
      "3\n"
     ]
    }
   ],
   "source": [
    "# Write a dynamic programming based program to find minimum number insertions (addition) needed to make a palindrome \n",
    "\n",
    "# Examples:\n",
    "# ab: Number of insertions required is 1 i.e. bab    aa: Number of insertions required is 0 i.e. aa\n",
    "# abcd: Number of insertions required is 3 i.e. dcb + abcd\n",
    "\n",
    "# Algorithm:\n",
    "# The table should be filled in diagonal fashion. For the string abcde, 0….4, \n",
    "# the following should be order in which the table is filled:\n",
    "\n",
    "# Gap = 1: (0, 1) (1, 2) (2, 3) (3, 4)  --> l, h values\n",
    "# Gap = 2: (0, 2) (1, 3) (2, 4)\n",
    "# Gap = 3: (0, 3) (1, 4)\n",
    "# Gap = 4: (0, 4)\n",
    "\n",
    "import numpy as np\n",
    "\n",
    "def min_insertions_for_palindrome(str1): # look for similar letters at the edges and calculate the steps needed to make it similar\n",
    "    n = len(str1)\n",
    "    # Create a table of size n*n to store minimum number of insertions  \n",
    "    # needed to convert str1[l..h] to a palindrome. Fill the table diagonally\n",
    "    table = np.zeros([n,n], dtype = int)\n",
    "    for gap in range(1, n): \n",
    "        l = 0\n",
    "        for h in range(gap, n): \n",
    "            # if the beginning and ending letters are the same, move one index towards inner part of the string\n",
    "            # Ex iovoi then the next step is to check ovo\n",
    "            if str1[l] == str1[h]: \n",
    "                table[l][h] = table[l + 1][h - 1] \n",
    "            # if the letters at both edges are not the same, look for either moving from one side or the other\n",
    "            # find the minimum and add one more step\n",
    "            else: \n",
    "                table[l][h] = (min(table[l][h - 1], table[l + 1][h]) + 1) \n",
    "            l += 1\n",
    "    \n",
    "    print(table)\n",
    "    # Return minimum number of insertions for str1[0..n-1] \n",
    "    return table[0][n - 1]; \n",
    "  \n",
    "# Driver Code \n",
    "test_str = \"vyoili\"\n",
    "print(min_insertions_for_palindrome(test_str)) \n",
    "  \n"
   ]
  },
  {
   "cell_type": "code",
   "execution_count": 2,
   "metadata": {},
   "outputs": [
    {
     "name": "stdout",
     "output_type": "stream",
     "text": [
      "oyvili\n",
      "these items are needed to add the string to make a palindrome\n"
     ]
    },
    {
     "data": {
      "text/plain": [
       "dict_keys(['v', 'y', 'o'])"
      ]
     },
     "execution_count": 2,
     "metadata": {},
     "output_type": "execute_result"
    }
   ],
   "source": [
    "# Minimum insertions to form a palindrome can be found easily by using Longest Common Subsequence Algorithm\n",
    "# Find the LCS of the string and its reverse. Items that are not in LCS are the ones missing to form a palindrome\n",
    "\n",
    "test_str = \"ilivyo\"\n",
    "rev = \"\".join(list(reversed(test_str)))\n",
    "print(rev)\n",
    "\n",
    "def lcsubs(string):\n",
    "    reverse_string = \"\".join(list(reversed(string)))\n",
    "    n = len(string)\n",
    "    lcsubs_list = []\n",
    "    dp = np.zeros([n+1, n+1], dtype = int)\n",
    "    for i in range(1, n+1):\n",
    "        for j in range(1 , n+1):\n",
    "            if string[i-1] == reverse_string[j-1]:\n",
    "                dp[i][j] = dp[i-1][j-1] + 1\n",
    "            else:\n",
    "                dp[i][j] = max(dp[i-1][j], dp[i][j-1])\n",
    "    \n",
    "    i = n\n",
    "    j = n\n",
    "    while i > 0 and j > 0:\n",
    "        if string[i-1] == reverse_string[j-1]:\n",
    "            lcsubs_list.insert(0, string[i-1])\n",
    "            i -= 1\n",
    "            j -= 1\n",
    "        elif dp[i-1][j] > dp[i][j-1]:\n",
    "            i -= 1\n",
    "        else:\n",
    "            j -= 1\n",
    "    \n",
    "    a_dict = {} # append the items needed to make the array palindrome\n",
    "    for i in range(len(string)):\n",
    "        if string[i] not in lcsubs_list:\n",
    "            a_dict[string[i]] = 'Needed'\n",
    "    print(\"these items are needed to add the string to make a palindrome\")\n",
    "    return a_dict.keys()\n",
    "    \n",
    "lcsubs(test_str)  \n",
    "    \n",
    "    "
   ]
  },
  {
   "cell_type": "code",
   "execution_count": 3,
   "metadata": {},
   "outputs": [
    {
     "name": "stdout",
     "output_type": "stream",
     "text": [
      "[[ 0.  0.  0.  0.]\n",
      " [ 0. 12. 12. 12.]\n",
      " [ 0. 12. 12. 12.]\n",
      " [ 0. 70. 82. 82.]\n",
      " [ 0. 70. 82. 82.]\n",
      " [ 0. 75. 87. 97.]]\n",
      "Maximum profit is: 97.0\n"
     ]
    }
   ],
   "source": [
    "# Python program to maximize the profit by doing at most k transactions given stock prices for n days \n",
    "\n",
    "def max_profit(prices, k): \n",
    "    n = len(prices)\n",
    "    if k > n: return\n",
    "    # Bottom-up DP approach \n",
    "    profit = np.zeros([n, k+1]) \n",
    "    # Profit is zero for the first \n",
    "    # day and for zero transactions \n",
    "    for j in range(1, k+1): # for each transaction \n",
    "        for i in range(1, n): # for each day's stock value\n",
    "            max_so_far = 0\n",
    "            for l in range(i): # for all past transactions\n",
    "                max_so_far = max(max_so_far, prices[i] - prices[l] + profit[l][j-1])               \n",
    "            profit[i][j] = max(profit[i - 1][j], max_so_far) \n",
    "    \n",
    "    print(profit) # to view the table\n",
    "    return profit[n - 1][k] \n",
    "  \n",
    "# Driver code \n",
    "k = 3\n",
    "prices = [10, 22, 5, 75, 65, 80] \n",
    "n = len(prices) \n",
    "  \n",
    "print(\"Maximum profit is:\", max_profit(prices, k)) \n",
    "  \n",
    "# if k = 2, trader earns 87 as sum of 12 and 75 Buy at price 10, sell at 22, buy at 5 and sell at 80,"
   ]
  },
  {
   "cell_type": "code",
   "execution_count": 4,
   "metadata": {},
   "outputs": [
    {
     "name": "stdout",
     "output_type": "stream",
     "text": [
      "[[ 0  0  0  0  0  0  0]\n",
      " [ 0  0 12 12 70 70 75]\n",
      " [ 0  0 12 12 82 82 87]\n",
      " [ 0  0 12 12 82 82 97]]\n"
     ]
    },
    {
     "data": {
      "text/plain": [
       "97"
      ]
     },
     "execution_count": 4,
     "metadata": {},
     "output_type": "execute_result"
    }
   ],
   "source": [
    "# Alternative solution to maximize the profit by doing at most k transactions given stock prices for n days \n",
    "\n",
    "import numpy as np\n",
    "def maximize_profit_with_k_trsc(price_list, k):\n",
    "    n = len(price_list)\n",
    "    if n <= 1 or k > len(price_list): return 0\n",
    "    memo_table = np.zeros([k+1, n+1] , dtype = int)  # number of transactions in rows\n",
    "    for i in range(1, k+1): # for each buy and sell transaction, i\n",
    "        max_profit = -np.inf\n",
    "        for j in range(1, n+1): # for each day, j, starting from the first day\n",
    "            prev_day_prev_transact = memo_table[i-1][j-1] # max profit until prev day with prev transact capacity\n",
    "            price_today = price_list[j-1]\n",
    "            prev_day_price = price_list[j-2]\n",
    "            max_transaction_until_today = memo_table[i][j-1] # max profit reached until prev day with curr transact.\n",
    "            max_profit = max(max_profit, prev_day_prev_transact - prev_day_price)\n",
    "            memo_table[i][j] = max(max_transaction_until_today, max_profit + price_today)\n",
    "    \n",
    "    print(memo_table)\n",
    "    return memo_table[k][n]      \n",
    "            \n",
    "prices = [10, 22, 5, 75, 65, 80] \n",
    "maximize_profit_with_k_trsc(prices, 3)"
   ]
  },
  {
   "cell_type": "code",
   "execution_count": 5,
   "metadata": {},
   "outputs": [
    {
     "name": "stdout",
     "output_type": "stream",
     "text": [
      "[[0 1 2 3 4 5]\n",
      " [1 2 3 4 5 6]\n",
      " [2 3 3 4 5 6]\n",
      " [3 4 4 5 6 7]\n",
      " [4 5 5 5 6 7]\n",
      " [5 6 6 6 7 7]]\n",
      "7\n"
     ]
    },
    {
     "data": {
      "text/plain": [
       "['Z', 'V', 'K', 'L', 'A', 'D', 'B']"
      ]
     },
     "execution_count": 5,
     "metadata": {},
     "output_type": "execute_result"
    }
   ],
   "source": [
    "# Return the list of items of the shortest supersequence of X and Y strings\n",
    "\n",
    "import numpy as np\n",
    "def shortest_supersequence(X, Y): \n",
    "    m = len(X)\n",
    "    n = len(Y)\n",
    "    memo_list = np.zeros([m+1, n+1], dtype = int)\n",
    "\n",
    "    for i in range(1, m + 1): \n",
    "        for j in range(1, n+1): \n",
    "            memo_list[0][j] = j # if there is no item in the X string, the result is length of Y\n",
    "            memo_list[i][0] = i # if there is no item in the Y string, the result is length of X\n",
    "              \n",
    "            if (X[i - 1] == Y[j - 1]):  \n",
    "                memo_list[i][j] = 1 + memo_list[i - 1][j - 1] \n",
    "                   \n",
    "            else: \n",
    "                memo_list[i][j] = 1 + min(memo_list[i - 1][j], memo_list[i][j - 1]) \n",
    "    \n",
    "    print(memo_list) # to view\n",
    "    print(memo_list[m][n]) # answer to the length of the supersequence\n",
    "  \n",
    "    i = m \n",
    "    j = n \n",
    "    result = []\n",
    "    while i > 0 and j > 0: \n",
    "        if X[i - 1] == Y[j - 1]: \n",
    "            result.insert(0, X[i-1]) \n",
    "            i -= 1\n",
    "            j -= 1\n",
    "\n",
    "        elif memo_list[i - 1][j] > memo_list[i][j - 1]: \n",
    "            result.insert(0, Y[j-1]) \n",
    "            j -= 1\n",
    "\n",
    "        else: \n",
    "            result.insert(0, X[i-1]) \n",
    "            i -= 1\n",
    "\n",
    "    # if j == 0\n",
    "    while i > 0: \n",
    "        result.insert(0, X[i-1])  \n",
    "        i -= 1\n",
    "\n",
    "    \n",
    "    #if i == 0\n",
    "    while j > 0: \n",
    "        result.insert(0, Y[j-1]) \n",
    "        j -= 1\n",
    "\n",
    "  \n",
    "    return result\n",
    "    \n",
    "test_x = \"VKLAB\"\n",
    "test_y = \"ZKADB\"\n",
    "shortest_supersequence(test_x, test_y)"
   ]
  },
  {
   "cell_type": "code",
   "execution_count": 6,
   "metadata": {},
   "outputs": [
    {
     "name": "stdout",
     "output_type": "stream",
     "text": [
      "3\n"
     ]
    }
   ],
   "source": [
    "# Reminder of the min coin change problem to help the min cost table and max chain problems below\n",
    "\n",
    "change_list = [1,3,5,10]\n",
    "target = 21\n",
    "def min_coin_change(coin_list,change):\n",
    "    # create an array for the worst number of coins for change \n",
    "    dp = np.arange(change + 1, dtype = int)\n",
    "    # optimize the array for the min number of coins \n",
    "    for i in range(1, len(dp)):\n",
    "        for c in [coin for coin in coin_list if coin <= i]:\n",
    "            dp[i] = min(dp[i], dp[i-c] + 1)\n",
    "    # print(dp)\n",
    "    return dp[change]\n",
    "print(min_coin_change(change_list, target))\n"
   ]
  },
  {
   "cell_type": "code",
   "execution_count": 7,
   "metadata": {},
   "outputs": [
    {
     "name": "stdout",
     "output_type": "stream",
     "text": [
      "[0 1 2 3 4 5 6 7 8 9] [ 0  5  6 11  7 12 12 17  8 13]\n"
     ]
    },
    {
     "data": {
      "text/plain": [
       "13"
      ]
     },
     "execution_count": 7,
     "metadata": {},
     "output_type": "execute_result"
    }
   ],
   "source": [
    "# min cost table for addition or multiplication with unusual operational costs:\n",
    "# if from zero to the destination(N), the cost of addition(P) of 1 unit is 5, and multiplication cost by two(Q) is 1;\n",
    "# find the min cost to reach to destination from 0\n",
    "# Input: N = 9, P = 5, Q = 1 Min cost is: 13 :  0 --> 1 --> 2 --> 4 --> 8 --> 9  is:  5 + 1 + 1 + 1 + 5 = 13. \n",
    "\n",
    "import numpy as np\n",
    "def min_cost_to_reach_N(N, P, Q):\n",
    "    # prepare the memory array with the worst case scenerio (with addition of P for each unit) to reach any number\n",
    "    memo = np.zeros(N + 1, dtype = int)\n",
    "    for i in range(1, len(memo)):\n",
    "        memo[i] = i*P\n",
    "    # loop over the memo array to optimize the values in the array\n",
    "    for i in range(1, len(memo)):\n",
    "        # the index of memo can be odd or even\n",
    "        if i % 2 == 0:\n",
    "            memo[i] = min(memo[i-1] + 5, memo[i//2] + 1 )\n",
    "        else:\n",
    "            memo[i] = min(memo[i-1] + 5, memo[i//2] + 1 + 5) \n",
    "    print(np.arange(len(memo)), memo)\n",
    "    return memo[N]\n",
    "    \n",
    "min_cost_to_reach_N(9, 5,1)  #[ 0  5  6 11  7 12 12 17  8 13]"
   ]
  },
  {
   "cell_type": "code",
   "execution_count": 8,
   "metadata": {},
   "outputs": [
    {
     "name": "stdout",
     "output_type": "stream",
     "text": [
      "[1, 2, 2, 3, 4]\n"
     ]
    },
    {
     "data": {
      "text/plain": [
       "4"
      ]
     },
     "execution_count": 8,
     "metadata": {},
     "output_type": "execute_result"
    }
   ],
   "source": [
    "# Order shuffled pairs such as: (a, b),(c, d),(e, f)... if c > b and e > f.. Find the longest chain from a given set\n",
    "# Input: {{5, 24}, {41, 50}, {25, 68}, {27, 39}, {30, 90}}, then the longest chain is: {{5, 24}, {27, 39}, {41, 50}}\n",
    "        \n",
    "def max_chain_length_of_tuples(arr): \n",
    "    arr = sorted(arr, key = lambda x: x[0]) # sort the array of tuples according to the first value\n",
    "    n = len(arr)\n",
    "    max_length = 0\n",
    "    # Initialize MCL(max chain length) values for all indices \n",
    "    memo = [1 for i in range(n)] \n",
    "    # Compute optimized chain length values in bottom up manner \n",
    "    for i in range(1, n): \n",
    "        for j in range(0, i): \n",
    "            if (arr[i][0] > arr[j][1] and memo[i] <= memo[j]): \n",
    "                memo[i] = memo[j] + 1\n",
    "    print(memo)\n",
    "    return max(memo)\n",
    "  \n",
    "# Driver program to test above function \n",
    "arr = [(5, 24), (41, 50), (25, 68), (27, 39), (70,90)] \n",
    "  \n",
    "max_chain_length_of_tuples(arr)"
   ]
  },
  {
   "cell_type": "code",
   "execution_count": 9,
   "metadata": {},
   "outputs": [
    {
     "name": "stdout",
     "output_type": "stream",
     "text": [
      "[1, 2, 2, 3, 4]\n"
     ]
    },
    {
     "data": {
      "text/plain": [
       "4"
      ]
     },
     "execution_count": 9,
     "metadata": {},
     "output_type": "execute_result"
    }
   ],
   "source": [
    "# Longest Increasing Subsequence Algorithm can be applied to find a solution to this problem.\n",
    "# Because the items are shuffled, it wouldn't be useful to print the order\n",
    "\n",
    "# def LIS(numbers):  # with two for loops, simple Longest Increasing Subsequence\n",
    "#     n = len(numbers)\n",
    "#     ranking = [1 for i in range(n)] # ranking is set to 1, if there is no sequence, it will be just one number\n",
    "#     for i in range(n):  # all the numbers\n",
    "#         for j in range(i+1, len(numbers)):\n",
    "#             # check if the remaining items have lower rank but higher value and re-adjust the ranking\n",
    "#             if numbers[i] < numbers[j] and ranking[i] >= ranking[j]:\n",
    "#                 ranking[j] = ranking[i] + 1\n",
    "                \n",
    "#     return max(ranking) , ranking\n",
    "# LIS([4, 0, 1, 8, 2, 10, 2]\n",
    "\n",
    "def max_chain_length_of_tuples2(arr): \n",
    "    arr = sorted(arr, key = lambda x: x[0]) # sort the array of tuples according to the first value\n",
    "    n = len(arr)\n",
    "    max_length = 0\n",
    "    # Initialize MCL(max chain length) values for all indices \n",
    "    memo = [1 for i in range(n)] \n",
    "    # Compute optimized chain length values in bottom up manner \n",
    "    for i in range(n): \n",
    "        for j in range(i, n): \n",
    "            if (arr[j][0] > arr[i][1] and memo[i] >= memo[j]): \n",
    "                memo[j] = memo[i] + 1\n",
    "    print(memo)\n",
    "    return max(memo)\n",
    "  \n",
    "# Driver program to test above function \n",
    "arr = [(5, 24), (41, 50), (25, 68), (27, 39), (70,90)] \n",
    "  \n",
    "max_chain_length_of_tuples2(arr)"
   ]
  },
  {
   "cell_type": "code",
   "execution_count": 10,
   "metadata": {},
   "outputs": [
    {
     "name": "stdout",
     "output_type": "stream",
     "text": [
      "[1 1 2 3 3 4]\n"
     ]
    },
    {
     "data": {
      "text/plain": [
       "[0, 1, 2, 10]"
      ]
     },
     "execution_count": 10,
     "metadata": {},
     "output_type": "execute_result"
    }
   ],
   "source": [
    "# Reminder of the Longest Increasing Subsequence problem before the Longest Common Increasing Subsequence problem\n",
    "# ATTN: There might always be several longest increasing subsequences with same length \n",
    "# ex: [4, 5, 0, 1, 8, 2, 10]  answer: 4,5,8,10 and 0,1,2,10\n",
    "\n",
    "test_array = [4, 0, 1, 8, 2, 10]\n",
    "def longest_increasing_subsequence(a):\n",
    "    # create a ranking array and a parent array\n",
    "    ranking = np.ones(len(a), dtype = int) # dtype is very important!\n",
    "    # loop over the array\n",
    "    for i in range(len(a)):\n",
    "        # loop over all the remaining items ahead of the current item\n",
    "        for j in range(i+1, len(a)):\n",
    "            # check if the remaining items have lower rank but higher value\n",
    "            # if this is the case, increase the rank of the further items and assign them as parent\n",
    "            if a[i] < a[j] and ranking[i] >= ranking[j]:\n",
    "                ranking[j] = ranking[i] + 1\n",
    "    print(ranking)\n",
    "    max_rank_at = int(max(ranking))\n",
    "    order_list = []\n",
    "    for each_rank in reversed(range(len(ranking))):\n",
    "        if ranking[each_rank] == max_rank_at:\n",
    "            order_list.insert(0, a[each_rank])\n",
    "            max_rank_at -= 1\n",
    "    return order_list      \n",
    "    \n",
    "longest_increasing_subsequence(test_array)"
   ]
  },
  {
   "cell_type": "code",
   "execution_count": 11,
   "metadata": {},
   "outputs": [
    {
     "name": "stdout",
     "output_type": "stream",
     "text": [
      "[1 2 1 3]\n"
     ]
    },
    {
     "data": {
      "text/plain": [
       "[4, 8, 10]"
      ]
     },
     "execution_count": 11,
     "metadata": {},
     "output_type": "execute_result"
    }
   ],
   "source": [
    "# Longest Common Increasing Subsequence of two arrays\n",
    "\n",
    "arr1 = [4, 0, 8, 2, 10] # LCS: 4,8,2,10 & LCIS: 4, 8, 10 & LCIS should be: [0,1,2,1,3]\n",
    "arr2 = [3, 4, 8, 2, 10]\n",
    "\n",
    "# find the longest common subsequence\n",
    "def lcsubseq(X, Y):\n",
    "    if len(X) == 0 or len(Y) == 0: return None\n",
    "    n = len(X)\n",
    "    m = len(Y)\n",
    "    memo = np.zeros([n+1, m+1], dtype = int)\n",
    "    for i in range(1,n+1):\n",
    "        for j in range(1,m+1):\n",
    "            if X[i-1] == Y[j-1]:\n",
    "                memo[i][j] = memo[i-1][j-1] + 1\n",
    "            else:\n",
    "                memo[i][j] = max(memo[i][j-1], memo[i-1][j])\n",
    "    # percolate up to find the items that have matched\n",
    "    i = n\n",
    "    j = m\n",
    "    lcsubseq_list = []\n",
    "    while i > 0 and j > 0:\n",
    "        if X[i-1] == Y[j-1]:\n",
    "            lcsubseq_list.insert(0, X[i-1])\n",
    "            i -= 1\n",
    "            j -= 1\n",
    "        elif memo[i][j-1] > memo[i-1][j]:\n",
    "            j -= 1\n",
    "        else:\n",
    "            i -= 1\n",
    "    return lcsubseq_list\n",
    "\n",
    "test_array = lcsubseq(arr1, arr2)\n",
    "   \n",
    "# Extract the longest increasing subsequence from the solution of the LCS of two arrays\n",
    "def lisubs(array):\n",
    "    n = len(array)\n",
    "    ranking = np.ones(n, dtype = int)\n",
    "    for i in range(n):\n",
    "        for j in range(i, n):\n",
    "            if array[j] > array[i] and ranking[i] >= ranking[j]:\n",
    "                ranking[j] = ranking[i] + 1\n",
    "    print(ranking)\n",
    "    lis = []\n",
    "    max_val = np.max(ranking)\n",
    "    for i in reversed(range(n)):\n",
    "        if ranking[i] == max_val:\n",
    "            lis.insert(0, array[i])\n",
    "            max_val -= 1\n",
    "    return lis\n",
    "\n",
    "\n",
    "lisubs(test_array)"
   ]
  },
  {
   "cell_type": "code",
   "execution_count": 12,
   "metadata": {},
   "outputs": [
    {
     "name": "stdout",
     "output_type": "stream",
     "text": [
      "[  1 102   3   6 106  10  15]\n"
     ]
    },
    {
     "data": {
      "text/plain": [
       "106"
      ]
     },
     "execution_count": 12,
     "metadata": {},
     "output_type": "execute_result"
    }
   ],
   "source": [
    "# Find Maximum Sum Increasing Subsequence \n",
    "# Solution is also similar to Longest Increasing Subsequence with a twist\n",
    "# Ex: If input is {1, 101, 2, 3, 100, 4, 5}, output is: 106 (1 + 2 + 3 + 100)\n",
    "\n",
    "\n",
    "import numpy as np\n",
    "def max_sum_increasing_subseq(arr): \n",
    "    n = len(arr)\n",
    "    msis = np.copy(arr) # copy the values of original array as starting point\n",
    "    # Compute maximum sum values in bottom up manner \n",
    "    for i in range(n): \n",
    "        for j in range(i): \n",
    "            if (arr[i] > arr[j] and msis[i] < msis[j] + arr[i]): \n",
    "                msis[i] = msis[j] + arr[i] \n",
    "    print(msis)\n",
    "    # Pick maximum of all msis values \n",
    "    return np.max(msis)\n",
    "  \n",
    "test_array = [1, 101, 2, 3, 100, 4, 5]  \n",
    "max_sum_increasing_subseq(test_array) "
   ]
  },
  {
   "cell_type": "code",
   "execution_count": 13,
   "metadata": {},
   "outputs": [
    {
     "name": "stdout",
     "output_type": "stream",
     "text": [
      "[0, 1, 2, 2, 2, 3, 3, 3, 3, 3, 3, 4, 4]\n"
     ]
    },
    {
     "data": {
      "text/plain": [
       "4"
      ]
     },
     "execution_count": 13,
     "metadata": {},
     "output_type": "execute_result"
    }
   ],
   "source": [
    "# Minimum number of jumps to reach the end of the array\n",
    "# Given an array of integers where each element represents the max number of steps that can be made forward from that \n",
    "# element. Return the minimum number of jumps to reach the end of the array (starting from the first element). \n",
    "# If an element is 0, then cannot move through that element.\n",
    "\n",
    "# Example: Input: arr[] = {1, 3, 5, 8, 9, 2, 6, 7, 6, 8, 9} then Output: 3 (1-> 3 -> 8 ->9)\n",
    "# First element is 1, so can only go to 3. Second element is 3, so can make at most 3 steps eg to 5 or 8 or 9.\n",
    "\n",
    "def min_jumps_to_reach_the_end_of_array(arr):\n",
    "    n = len(arr)\n",
    "    if n == 0 or arr[0] == 0: return  \n",
    "    jumps = [np.inf] * n \n",
    "    jumps[0] = 0\n",
    "    for i in range(1, n):  \n",
    "        for j in range(i): \n",
    "            current_distance = i-j\n",
    "            potential_steps = arr[j]\n",
    "            if (current_distance <= potential_steps): # if potential steps are larger, it will be faster to reach to end\n",
    "                jumps[i] = min(jumps[i], jumps[j] + 1) \n",
    "    print(jumps)\n",
    "    return jumps[n-1] \n",
    "  \n",
    "# Driver Program to test above function \n",
    "arr = [1, 3, 2, 5, 6, 4, 2, 6, 7, 6, 8, 9, 11] \n",
    "min_jumps_to_reach_the_end_of_array(arr)"
   ]
  },
  {
   "cell_type": "code",
   "execution_count": 14,
   "metadata": {},
   "outputs": [
    {
     "name": "stdout",
     "output_type": "stream",
     "text": [
      "[1, 1, 2, 4, 7, 13]\n",
      "13\n"
     ]
    }
   ],
   "source": [
    "# Dynamic programming solution to find all possible steps to cover a distance problem \n",
    "# Reach a target by using a list of all integers that are all smaller than or equal to the target\n",
    "\n",
    "steps = [1,2,3]\n",
    "target = 5\n",
    "\n",
    "def count_ways_to_reach_target(target, step_list): \n",
    "    res = [0 for x in range(target+1)] # Creates list res with all elements 0 \n",
    "    res[0] = 1 \n",
    "    for i in range(1, target+1): \n",
    "        for j in [c for c in step_list if c <= target]:\n",
    "            res[i] += res[i-j]\n",
    "    print(res)\n",
    "    return res[target]\n",
    "print(count_ways_to_reach_target(target,steps)) \n",
    "# %timeit count_ways_to_reach_target(target, steps)\n"
   ]
  },
  {
   "cell_type": "code",
   "execution_count": 15,
   "metadata": {},
   "outputs": [
    {
     "name": "stdout",
     "output_type": "stream",
     "text": [
      "[[1, 1, 1, 1, 1], [1, 1, 1, 2], [1, 1, 2, 1], [1, 1, 3], [1, 2, 1, 1], [1, 2, 2], [1, 3, 1], [2, 1, 1, 1], [2, 1, 2], [2, 2, 1], [2, 3], [3, 1, 1], [3, 2]] 13\n",
      "106 µs ± 53.3 µs per loop (mean ± std. dev. of 7 runs, 10000 loops each)\n",
      "2\n"
     ]
    }
   ],
   "source": [
    "# number of ways to cover a distance if it was made with recursion\n",
    "\n",
    "def reach_t(list_of_numbers, target, result = None, sub_solution = None):\n",
    "    if result == None: result = []\n",
    "    if sub_solution == None: sub_solution = []\n",
    "    if sum(sub_solution) > target: return\n",
    "    if sum(sub_solution) == target: result.append(sub_solution)\n",
    "    # loop over all the items in the list\n",
    "    for i in range(len(list_of_numbers)):\n",
    "        reach_t(list_of_numbers, target, result, sub_solution + [list_of_numbers[i]])\n",
    "    return result\n",
    "\n",
    "solution = reach_t([1,2,3], 5)\n",
    "print(solution, len(solution))\n",
    "%timeit reach_t([1,2,3], 5)\n",
    "\n",
    "# print the min number of steps (number of items to add up) to reach the target:\n",
    "print(min([len(solution[i]) for i in range(len(solution))]))  # takes minimum 2 items to sum up to reach target\n"
   ]
  },
  {
   "cell_type": "code",
   "execution_count": 16,
   "metadata": {},
   "outputs": [
    {
     "name": "stdout",
     "output_type": "stream",
     "text": [
      "[[ 1  1  1  1  1]\n",
      " [ 1  2  3  4  5]\n",
      " [ 1  3  6 10 15]\n",
      " [ 1  4 10 20 35]\n",
      " [ 1  5 15 35 70]]\n",
      "70\n"
     ]
    }
   ],
   "source": [
    "# Count the number of ways to traverse a Matrix with Time Complexity : O(m * n)  \n",
    "# start from: matrix[0][0], end at: mat[m-1][n-1] \n",
    "\n",
    "def number_of_paths(m, n): \n",
    "    dp = np.ones([m, n], dtype = int) \n",
    "    for i in range(1, m): \n",
    "        for j in range(1, n): \n",
    "            dp[i][j] = (dp[i - 1][j] + dp[i][j - 1])              \n",
    "    print(dp)\n",
    "    return dp[-1][-1]\n",
    "\n",
    "n = 5\n",
    "m = 5\n",
    "print(number_of_paths(n, m))"
   ]
  },
  {
   "cell_type": "code",
   "execution_count": 17,
   "metadata": {},
   "outputs": [
    {
     "name": "stdout",
     "output_type": "stream",
     "text": [
      "31\n",
      "31\n"
     ]
    }
   ],
   "source": [
    "# Optimal Strategy for a Game for 2 players picking coins from an array of coins, trying to get maximum value\n",
    "# Consider a row of n coins, where n is even and two players alternating turns. In each turn, a player selects either \n",
    "# the first or last coin from the row, removes it from the row permanently. Find the max value a player can get.\n",
    "\n",
    "# Returns optimal value possible that \n",
    "# a player can collect from an array  \n",
    "# of coins of size n. \n",
    "\n",
    "def strategy_to_earn_most_money_in_a_game(arr, n): \n",
    "    table = np.zeros([n,n] ,dtype = int) \n",
    "    # the table is filled in diagonal fashion  \n",
    "    for gap in range(n): \n",
    "        for j in range(gap, n): \n",
    "            i = j - gap \n",
    "            x = 0\n",
    "            if((i + 2) <= j): \n",
    "                x = table[i + 2][j] \n",
    "            y = 0\n",
    "            if((i + 1) <= (j - 1)): \n",
    "                y = table[i + 1][j - 1] \n",
    "            z = 0\n",
    "            if(i <= (j - 2)): \n",
    "                z = table[i][j - 2] \n",
    "            table[i][j] = max(arr[i] + min(x, y), arr[j] + min(y, z)) \n",
    "            \n",
    "    return table[0][n - 1] \n",
    "  \n",
    "# Driver Code \n",
    "arr1 = [ 20, 9, 2, 2, 2, 10]  \n",
    "n = len(arr1) \n",
    "print(strategy_to_earn_most_money_in_a_game(arr1, n)) \n",
    "\n",
    "\n",
    "# Alternatively it would be better to use this easy solution:\n",
    "# player 1 is smart and making the best choices and player 2 is a total loser:\n",
    "\n",
    "import copy\n",
    "array = [ 20, 9, 2, 2, 2, 10]\n",
    "player1 = []\n",
    "player2 = []\n",
    "cp_array = copy.deepcopy(array)\n",
    "while len(cp_array) >= 2:\n",
    "    max_item = max(cp_array[0], cp_array[-1])\n",
    "    min_item = min(cp_array[0], cp_array[-1])\n",
    "    player1.append(max_item)\n",
    "    player2.append(min_item)\n",
    "    cp_array.remove(max_item)\n",
    "    cp_array.remove(min_item)\n",
    "print(max(sum(player1), sum(player2)))\n",
    "    \n"
   ]
  },
  {
   "cell_type": "code",
   "execution_count": 18,
   "metadata": {},
   "outputs": [
    {
     "name": "stdout",
     "output_type": "stream",
     "text": [
      "target is reachable\n",
      "[[1 0 0 0 0 0 0 0 0 0 0 0 0 0 0 0 0 0 0 0 0 0 0 0]\n",
      " [1 0 0 0 0 1 0 0 0 0 0 0 0 0 0 0 0 0 0 0 0 0 0 0]\n",
      " [1 0 0 0 1 1 0 0 0 1 0 0 0 0 0 0 0 0 0 0 0 0 0 0]\n",
      " [1 1 0 0 1 1 1 0 0 1 1 0 0 0 0 0 0 0 0 0 0 0 0 0]\n",
      " [1 1 1 1 1 1 1 1 1 1 1 1 1 0 0 0 0 0 0 0 0 0 0 0]\n",
      " [1 1 1 1 1 1 1 1 1 1 1 1 1 1 1 1 1 1 1 1 0 0 0 0]\n",
      " [1 1 1 1 1 1 1 1 1 1 1 1 1 1 1 1 1 1 1 1 1 1 1 1]\n",
      " [1 1 1 1 1 1 1 1 1 1 1 1 1 1 1 1 1 1 1 1 1 1 1 1]]\n"
     ]
    },
    {
     "data": {
      "text/plain": [
       "[8, 7, 2, 1, 5]"
      ]
     },
     "execution_count": 18,
     "metadata": {},
     "output_type": "execute_result"
    }
   ],
   "source": [
    "# find out if any combination of elements in an array sums up to target with time complexity O(n*target)\n",
    "# the algoritm is similar to knapsack algorithm to build the dp\n",
    "\n",
    "import numpy as np  \n",
    "test_array = [5,4,1,2,7,8,3]\n",
    "\n",
    "def sum_subset(array, target): \n",
    "    n = len(array)\n",
    "    dp = np.zeros([n+1, target+1], dtype = int)\n",
    "    for i in range(n+1):\n",
    "        for t in range(target+1):\n",
    "            dp[i][0] = 1 # it is crucial to start with True for reaching 0 with any item\n",
    "            if array[i-1] <= t:\n",
    "                curr_val = array[i-1]\n",
    "                dp[i][t] = dp[i-1][t] or dp[i-1][t-curr_val]\n",
    "            else:\n",
    "                dp[i][t] = dp[i-1][t]\n",
    "    if dp[n][target] == 1: \n",
    "        print('target is reachable')\n",
    "    print(dp)\n",
    "    set_of_items = []\n",
    "    # Start from last element and percolate up\n",
    "    i = n  \n",
    "    currSum = target \n",
    "    while (i > 0 and currSum > 0): \n",
    "        if (dp[i - 1][currSum]): # if previous items already add up, then exclude current item and move to the next\n",
    "            i -= 1\n",
    "        elif (dp[i - 1][currSum - array[i - 1]]):# if the previous item is necessary to reach the target, include it\n",
    "            set_of_items.append(array[i-1]) \n",
    "            currSum -= array[i-1] \n",
    "            i -= 1\n",
    "    return set_of_items\n",
    "sum_subset(test_array, 23)\n",
    "# solution is [8, 7, 2, 1, 5]\n",
    "    \n"
   ]
  },
  {
   "cell_type": "code",
   "execution_count": 19,
   "metadata": {},
   "outputs": [
    {
     "data": {
      "text/plain": [
       "[[8, 7, 2, 1, 5], [3, 8, 2, 1, 4, 5], [3, 8, 7, 5], [3, 8, 7, 1, 4]]"
      ]
     },
     "execution_count": 19,
     "metadata": {},
     "output_type": "execute_result"
    }
   ],
   "source": [
    "# Recursive solution of the above problem would be very costly but it will give all combinations to the solution:\n",
    "# NOT recommended for large size problems!\n",
    "\n",
    "def find_subset_to_reach_target(array, target, result = None, subset = None):\n",
    "    if result == None: result = []\n",
    "    if subset == None: subset = []\n",
    "    if sum(subset) == target: result.append(subset)\n",
    "    if sum(subset) > target: return\n",
    "    for i in range(len(array)):\n",
    "        remaining = array[:i+1]\n",
    "        if array[i] not in subset: # make sure each element is included only once\n",
    "            find_subset_to_reach_target(remaining, target, result, subset + [array[i]])\n",
    "    return result\n",
    "    # return [n for i,n in enumerate(result) if n not in result[:i]] # avoid repetitions if any in the original array\n",
    "\n",
    "find_subset_to_reach_target([5,4,1,2,7,8,3], 23)"
   ]
  },
  {
   "cell_type": "code",
   "execution_count": 20,
   "metadata": {},
   "outputs": [
    {
     "name": "stdout",
     "output_type": "stream",
     "text": [
      "[[1. 0. 0. 0. 0. 0. 0. 0. 0. 0. 0. 0.]\n",
      " [1. 0. 0. 0. 0. 1. 0. 0. 0. 0. 0. 0.]\n",
      " [1. 0. 0. 0. 1. 1. 0. 0. 0. 1. 0. 0.]\n",
      " [1. 1. 0. 0. 1. 1. 1. 0. 0. 1. 1. 0.]\n",
      " [1. 1. 1. 1. 1. 1. 1. 1. 1. 1. 1. 1.]\n",
      " [1. 1. 1. 1. 1. 1. 1. 1. 1. 1. 1. 1.]\n",
      " [1. 1. 1. 1. 1. 1. 1. 1. 1. 1. 1. 1.]\n",
      " [1. 1. 1. 1. 1. 1. 1. 1. 1. 1. 1. 1.]]\n",
      "item: 3 goes to set 1, see indices 6 and 11 is 1\n",
      "item: 2 goes to set 1, see indices 5 and 11 is 1\n",
      "item: 5 goes to set 1, see indices 4 and 11 is 1\n",
      "item: 2 goes to set 2, see indices 3 and 11 is 0\n",
      "item: 1 goes to set 1, see indices 2 and 9 is 1\n",
      "item: 4 goes to set 2, see indices 1 and 9 is 0\n",
      "item: 5 goes to set 2, see indices 0 and 5 is 0\n"
     ]
    },
    {
     "data": {
      "text/plain": [
       "([3, 2, 5, 1], [2, 4, 5])"
      ]
     },
     "execution_count": 20,
     "metadata": {},
     "output_type": "execute_result"
    }
   ],
   "source": [
    "# Dynamic programming solution for equal sum sub-sets partition problem with time complexity: O(n*k)\n",
    "# Same algorithm with finding if any combination of sum of some elements in a list is equal to the target. \n",
    "\n",
    "arr1 = [5,4,1,2,5,2,3]\n",
    "import numpy as np  \n",
    "\n",
    "def print_two_equal_sum_subsets(arr): \n",
    "    n = len(arr)\n",
    "    if sum(arr) % 2 == 1: return False # if sum / 2 is odd the array can't be partitioned to two equal subsets \n",
    "    k = sum(arr) // 2  # the sum of both subsets will be k \n",
    "    # dp[i][j] = 1 if there is a subset of elements in first i elements of array that has sum equal to j.  \n",
    "    memo_table = np.zeros((n + 1, k + 1))   \n",
    "    for i in range(n + 1):  # TRUE if the array has 0 elements\n",
    "        memo_table[i][0] = 1\n",
    "    # check if the any combination of elements until index i, is equal to curr_sum \n",
    "    for i in range(1, n + 1): # traverse each element\n",
    "        for currSum in range(1, k + 1):  # for each sum subset value\n",
    "            if arr[i-1] <= currSum: # if current item can fit to the sum\n",
    "                memo_table[i][currSum] = memo_table[i-1][currSum] or memo_table[i-1][currSum - arr[i-1]]\n",
    "            else:\n",
    "                memo_table[i][currSum] = memo_table[i-1][currSum]\n",
    "    \n",
    "    # If the answer needed was a TRUE or FALSE, we could just return the dp[n][k] value\n",
    "    print(memo_table) # view the memo table \n",
    "    \n",
    "    # If partition is not possible, return False \n",
    "    if memo_table[n][k] == 0: return False\n",
    "    \n",
    "    # partition part requires creating two sets and separating the items list \n",
    "    set1, set2 = [], [] \n",
    "\n",
    "    # Start from last element and percolate up\n",
    "    i = n  \n",
    "    currSum = k  \n",
    "    while (i > 0 and currSum >= 0): \n",
    "        if (memo_table[i - 1][currSum]): \n",
    "            set1.append(arr[i-1]) \n",
    "            print('item: {} goes to set 1, see indices {} and {} is 1'.format(arr[i-1], i-1, currSum))  \n",
    "        elif (memo_table[i - 1][currSum - arr[i - 1]]): \n",
    "            print('item: {} goes to set 2, see indices {} and {} is 0'.format(arr[i-1], i-1, currSum))\n",
    "            set2.append(arr[i-1]) \n",
    "            currSum -= arr[i-1] \n",
    "        i -= 1\n",
    "\n",
    "    return set1, set2 \n",
    "  \n",
    "# arr1 = [5,4,1,2]\n",
    "print_two_equal_sum_subsets(arr1)"
   ]
  },
  {
   "cell_type": "code",
   "execution_count": 21,
   "metadata": {},
   "outputs": [
    {
     "name": "stdout",
     "output_type": "stream",
     "text": [
      "[ 0  1  5  8 10 13 17 18 22]\n"
     ]
    },
    {
     "data": {
      "text/plain": [
       "22"
      ]
     },
     "execution_count": 21,
     "metadata": {},
     "output_type": "execute_result"
    }
   ],
   "source": [
    "# Rod cutting profit optimization\n",
    "# Very similiar to finding minimum number of coins to reach a target change algorithm\n",
    "\n",
    "import numpy as np\n",
    "price_list = [1, 5, 8, 9, 10, 17, 17, 20]\n",
    "def rod_cutting_max_profit(array):\n",
    "    n = len(array)\n",
    "    dp = np.copy(array)\n",
    "    dp = np.insert(dp, 0, 0)\n",
    "    for i in range(len(dp)):\n",
    "        for j in range(i):\n",
    "            dp[i] = max(dp[i], dp[i-j] + dp[j])\n",
    "    print(dp) # to view the dp        \n",
    "    return dp[n]       \n",
    "rod_cutting_max_profit(price_list) \n",
    "\n",
    "# Alternative Solution:\n",
    "# def rod_cutting_price_optimization(pricing_list):\n",
    "#     n = len(pricing_list)\n",
    "#     known_results = np.copy(pricing_list) # np.copy is a deep copy by default\n",
    "#     for i in range(n):\n",
    "#         for j in range(i): # since each cut is only 1 inches, check the length \n",
    "#             known_results[i] = max(known_results[i-j-1] + known_results[j], known_results[i])\n",
    "#     print(known_results) # view the array build up     \n",
    "#     return known_results[n-1] # view the whole list for all optinal solutions\n",
    "\n",
    "# rod_cutting_price_optimization(price_list)"
   ]
  },
  {
   "cell_type": "code",
   "execution_count": 22,
   "metadata": {},
   "outputs": [
    {
     "name": "stdout",
     "output_type": "stream",
     "text": [
      "dict_keys(['bunn', 'ies', 're', 'awesome']) ['bunn', 'a', 'awesome', 'ies', 're']\n",
      "False\n",
      "dict_keys(['bunn', 'ies', 're', 'awesome']) ['bunn', 'a', 'awesome', 'ies', 're']\n",
      "False\n"
     ]
    }
   ],
   "source": [
    "# Word Break Problem with Hashing:\n",
    "\n",
    "test1 = \"bunniesareawesome\"\n",
    "test2 = \"bunniesadfadfareawesome\"\n",
    "list_of_substr = [\"bunn\", \"a\" , \"awesome\", \"ies\", \"re\"]\n",
    "\n",
    "# create a function that takes the string and the substring list, outputs if substrings are all found in the string\n",
    "def word_break(string, words):\n",
    "    n = len(string)\n",
    "    # create a memo table\n",
    "    memo = {}\n",
    "    for i in range(n): # traverse the string,\n",
    "        for j in range(i): # traverse each letter until i\n",
    "            if string[j:i+1] in words: # include all indices \n",
    "                memo[string[j:i+1]] = 'True'           \n",
    "    print(memo.keys(), words)\n",
    "    for i in words:\n",
    "        if i not in memo.keys():\n",
    "            return False\n",
    "    \n",
    "    return True \n",
    "\n",
    "print(word_break(test1, list_of_substr))\n",
    "print(word_break(test2, list_of_substr))\n",
    "\n",
    "\n",
    "\n",
    "# Alternative Solution:\n",
    "# string = \"bunniesadfadfareawesome\"\n",
    "# words = [\"bunn\", \"a\" , \"awesome\", \"ies\", \"re\"]\n",
    "\n",
    "# # create a function that takes the string and the substring list, outputs if substrings are all found in the string\n",
    "# def words_in_a_string(string, word_list):\n",
    "#     # create a set\n",
    "#     checked_words = set()\n",
    "#     word_list = set(word_list)\n",
    "#     n = len(string)\n",
    "#     for i in range(1, n+1): # traverse the string, index i is starting from 1\n",
    "#         for j in range(i): # traverse each letter until i\n",
    "#             if string[j:i] in word_list and string[j:i] not in checked_words:\n",
    "#                 checked_words.add(string[j:i])\n",
    "#     return checked_words == word_list   \n",
    "    \n",
    "# print(words_in_a_string(string, words))"
   ]
  }
 ],
 "metadata": {
  "kernelspec": {
   "display_name": "Python 3",
   "language": "python",
   "name": "python3"
  },
  "language_info": {
   "codemirror_mode": {
    "name": "ipython",
    "version": 3
   },
   "file_extension": ".py",
   "mimetype": "text/x-python",
   "name": "python",
   "nbconvert_exporter": "python",
   "pygments_lexer": "ipython3",
   "version": "3.7.4"
  }
 },
 "nbformat": 4,
 "nbformat_minor": 2
}
