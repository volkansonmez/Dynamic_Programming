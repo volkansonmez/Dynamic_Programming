{
 "cells": [
  {
   "cell_type": "code",
   "execution_count": 1,
   "metadata": {},
   "outputs": [
    {
     "data": {
      "text/plain": [
       "[[1, 2, 3], [1, 3, 2], [2, 1, 3], [2, 3, 1], [3, 1, 2], [3, 2, 1]]"
      ]
     },
     "execution_count": 1,
     "metadata": {},
     "output_type": "execute_result"
    }
   ],
   "source": [
    "# Permutation of a list of items\n",
    "\n",
    "test_set = [1,2,3] \n",
    "def permutate(number_set, results = [], solutions = []):\n",
    "    if len(number_set) == 0: results.append(solutions)\n",
    "    for i, n in enumerate(number_set):\n",
    "        remaining = number_set[:i] + number_set[i+1:]\n",
    "        if remaining != None:\n",
    "            permutate(remaining, results, solutions + [n])\n",
    "    return results \n",
    "\n",
    "test_set2 = [1,2,3]\n",
    "permutate(test_set2)       \n",
    "    "
   ]
  },
  {
   "cell_type": "code",
   "execution_count": 2,
   "metadata": {},
   "outputs": [
    {
     "data": {
      "text/plain": [
       "[[1],\n",
       " [1, 2],\n",
       " [1, 2, 3],\n",
       " [1, 3],\n",
       " [1, 3, 2],\n",
       " [2],\n",
       " [2, 1],\n",
       " [2, 1, 3],\n",
       " [2, 3],\n",
       " [2, 3, 1],\n",
       " [3],\n",
       " [3, 1],\n",
       " [3, 1, 2],\n",
       " [3, 2],\n",
       " [3, 2, 1]]"
      ]
     },
     "execution_count": 2,
     "metadata": {},
     "output_type": "execute_result"
    }
   ],
   "source": [
    "# The breakdown of all elements in any combination\n",
    "\n",
    "test_set = [1,2,3] \n",
    "def perm_of_any_combination(numbers, results = [], picked_items = []):\n",
    "    if len(test_set) == 0: return\n",
    "    if len(picked_items) > 0: results.append(picked_items) # add everything to the result set \n",
    "    for i, n in enumerate(numbers):\n",
    "        remaining = numbers[:i] + numbers[i+1:]\n",
    "        if remaining != None:\n",
    "            perm_of_any_combination(remaining, results, picked_items + [n])\n",
    "    return results \n",
    "perm_of_any_combination(test_set) "
   ]
  },
  {
   "cell_type": "code",
   "execution_count": 3,
   "metadata": {},
   "outputs": [
    {
     "data": {
      "text/plain": [
       "[[1, 2, 3],\n",
       " [1, 3, 2],\n",
       " [1, 5],\n",
       " [2, 1, 3],\n",
       " [2, 3, 1],\n",
       " [2, 4],\n",
       " [3, 1, 2],\n",
       " [3, 2, 1],\n",
       " [4, 2],\n",
       " [5, 1],\n",
       " [6]]"
      ]
     },
     "execution_count": 3,
     "metadata": {},
     "output_type": "execute_result"
    }
   ],
   "source": [
    "# Subset sum list to reach a target with all permutations (All ways to reach an element while using each element once)\n",
    "\n",
    "import numpy as np\n",
    "numbers = [1,2,3,4,5,6] \n",
    "\n",
    "def subset_sum_permutation(numbers, target, results = [], partial_sum = []):\n",
    "    s = sum(partial_sum)\n",
    "    if s == target: results.append(partial_sum) \n",
    "    for i, n in enumerate(numbers):\n",
    "        remaining = numbers[:i] + numbers[i+1:]\n",
    "        if remaining != None:\n",
    "            subset_sum_permutation(remaining, target, results, partial_sum + [n])\n",
    "    return results \n",
    "subset_sum_permutation(numbers, 6)       \n",
    "    "
   ]
  },
  {
   "cell_type": "code",
   "execution_count": 4,
   "metadata": {
    "scrolled": true
   },
   "outputs": [
    {
     "data": {
      "text/plain": [
       "[[1, 2, 3], [1, 5], [2, 4], [6]]"
      ]
     },
     "execution_count": 4,
     "metadata": {},
     "output_type": "execute_result"
    }
   ],
   "source": [
    "# Subset sum list to reach a target with all combinations\n",
    "\n",
    "numbers = [1,2,3,4,5,6] \n",
    "def subset_sum_combination(numbers, target, results = [], partial_sum = []):\n",
    "    if sum(partial_sum) == target: results.append(partial_sum) \n",
    "    for i, n in enumerate(numbers):\n",
    "        remaining = numbers[i+1:]\n",
    "        if remaining != None:\n",
    "            subset_sum_combination(remaining, target, results, partial_sum + [n])\n",
    "    return results \n",
    "subset_sum_combination(numbers, 6)       \n",
    "    "
   ]
  },
  {
   "cell_type": "code",
   "execution_count": 5,
   "metadata": {},
   "outputs": [
    {
     "name": "stdout",
     "output_type": "stream",
     "text": [
      "[1, 2, 3, 4]\n"
     ]
    },
    {
     "data": {
      "text/plain": [
       "[[1, 1, 1, 1, 1],\n",
       " [1, 1, 1, 2],\n",
       " [1, 1, 2, 1],\n",
       " [1, 1, 3],\n",
       " [1, 2, 1, 1],\n",
       " [1, 2, 2],\n",
       " [1, 3, 1],\n",
       " [1, 4],\n",
       " [2, 1, 1, 1],\n",
       " [2, 1, 2],\n",
       " [2, 2, 1],\n",
       " [2, 3],\n",
       " [3, 1, 1],\n",
       " [3, 2],\n",
       " [4, 1]]"
      ]
     },
     "execution_count": 5,
     "metadata": {},
     "output_type": "execute_result"
    }
   ],
   "source": [
    "# All possible moves to reach a target with or without repetitions\n",
    "\n",
    "numbers = [1,2,3,4] \n",
    "print(numbers)\n",
    "\n",
    "def all_ways_to_reach_target(numbers, target, results = [], partial_sum = []):\n",
    "    if sum(partial_sum) > target: return\n",
    "    if sum(partial_sum) == target: results.append(partial_sum) \n",
    "    for i, n in enumerate(numbers):\n",
    "        all_ways_to_reach_target(numbers, target, results, partial_sum + [n])\n",
    "    return results \n",
    "all_ways_to_reach_target(numbers, 5)  \n",
    "\n"
   ]
  },
  {
   "cell_type": "code",
   "execution_count": 6,
   "metadata": {},
   "outputs": [
    {
     "name": "stdout",
     "output_type": "stream",
     "text": [
      "[['a', 'b'], ['a', 'c'], ['b', 'a'], ['b', 'c'], ['c', 'a'], ['c', 'b']]\n",
      "['ab', 'ac', 'ba', 'bc', 'ca', 'cb']\n"
     ]
    }
   ],
   "source": [
    "# Permutation of all subsequences with length k\n",
    "\n",
    "test_set = ['a','b','c'] \n",
    "def subsequence_with_length_k(numbers, k, results = [], picked_items = []):\n",
    "    if len(picked_items) == k: results.append(picked_items) # add everything to the result set \n",
    "    for i, n in enumerate(numbers):\n",
    "        remaining = numbers[:i] + numbers[i+1:]\n",
    "        if remaining != None:\n",
    "            subsequence_with_length_k(remaining, k, results, picked_items + [n])\n",
    "    return results\n",
    "solution = subsequence_with_length_k(test_set, 2) \n",
    "\n",
    "print(solution)\n",
    "print([\"\".join(i) for i in solution]) \n"
   ]
  },
  {
   "cell_type": "code",
   "execution_count": 7,
   "metadata": {},
   "outputs": [
    {
     "name": "stdout",
     "output_type": "stream",
     "text": [
      "[['a', 'b'], ['a', 'c'], ['b', 'c']]\n",
      "['ab', 'ac', 'bc']\n"
     ]
    }
   ],
   "source": [
    "# Combination of all subsequences with length k\n",
    "\n",
    "test_set = ['a','b','c'] \n",
    "def comb_subsequence_with_length_k(numbers, k, results = [], picked_items = []):\n",
    "    if len(picked_items) == k: results.append(picked_items) # add everything to the result set \n",
    "    for i, n in enumerate(numbers):\n",
    "        remaining = numbers[i+1:]\n",
    "        if remaining != None:\n",
    "            comb_subsequence_with_length_k(remaining, k, results, picked_items + [n])\n",
    "    return results\n",
    "solution = comb_subsequence_with_length_k(test_set, 2) \n",
    "\n",
    "print(solution)\n",
    "print([\"\".join(i) for i in solution]) \n"
   ]
  },
  {
   "cell_type": "code",
   "execution_count": 8,
   "metadata": {},
   "outputs": [
    {
     "name": "stdout",
     "output_type": "stream",
     "text": [
      "[['a', 'a'], ['a', 'b'], ['a', 'c'], ['b', 'a'], ['b', 'b'], ['b', 'c'], ['c', 'a'], ['c', 'b'], ['c', 'c']]\n",
      "['aa', 'ab', 'ac', 'ba', 'bb', 'bc', 'ca', 'cb', 'cc']\n"
     ]
    }
   ],
   "source": [
    "# All possible permutations of length j with or without repetitions of any element\n",
    "\n",
    "test_set = ['a','b','c'] \n",
    "def permutations_with_length_k(numbers, k, results = [], picked_items = []):\n",
    "    if len(picked_items) > k: return\n",
    "    if len(picked_items) == k: results.append(picked_items) # add everything to the result set \n",
    "    for i, n in enumerate(numbers):\n",
    "        permutations_with_length_k(numbers, k, results, picked_items + [n])\n",
    "    return results\n",
    "solution = permutations_with_length_k(test_set, 2) \n",
    "\n",
    "print(solution)\n",
    "print([\"\".join(i) for i in solution]) "
   ]
  },
  {
   "cell_type": "code",
   "execution_count": 10,
   "metadata": {},
   "outputs": [
    {
     "data": {
      "text/plain": [
       "True"
      ]
     },
     "execution_count": 10,
     "metadata": {},
     "output_type": "execute_result"
    }
   ],
   "source": [
    "# Checking if sum of any combination of elements in an array of integers is equal to the target\n",
    "\n",
    "def find_target(target, list_of_items):\n",
    "    if target in list_of_items: return True\n",
    "    if len(list_of_items) == 0 : return False\n",
    "    for i in range(len(list_of_items)):\n",
    "        result = find_target(target - list_of_items[i], list_of_items[:i] + list_of_items[i+1:])\n",
    "    return result    \n",
    "find_target(11, [1,2,3,4,5])\n"
   ]
  },
  {
   "cell_type": "code",
   "execution_count": 14,
   "metadata": {},
   "outputs": [
    {
     "name": "stdout",
     "output_type": "stream",
     "text": [
      "[[  0.    40.02  97.87 224.09 186.76]\n",
      " [   inf   0.    15.14  10.32  41.06]\n",
      " [   inf    inf   0.    12.17  44.39]\n",
      " [   inf    inf    inf   0.    85.41]\n",
      " [   inf    inf    inf    inf   0.  ]]\n",
      "The minimum cost to reach station 0 to all stations:\n",
      "from first station to: 1\n",
      "40.02\n",
      "from first station to: 2\n",
      "55.160000000000004\n",
      "from first station to: 3\n",
      "50.34\n",
      "from first station to: 4\n",
      "81.08000000000001\n"
     ]
    }
   ],
   "source": [
    "# Find the min distance with recursion in a a densely connected directed graph in matrix representation\n",
    "\n",
    "# prepare a random test matrix\n",
    "import numpy as np\n",
    "np.random.seed(0)\n",
    "def test_graph(n): # n vertices\n",
    "    test_graph_set = np.random.randn(n,n)*100\n",
    "    # 0 the source so that it is acyclic\n",
    "    for i in range(n):\n",
    "        test_graph_set[i][:i] = np.inf\n",
    "        test_graph_set[i][i] = 0\n",
    "    test_graph_set = np.around(test_graph_set, decimals = 2)\n",
    "    test_graph_set = np.abs(test_graph_set)\n",
    "    return test_graph_set\n",
    "\n",
    "test_set = test_graph(5) \n",
    "print(test_set)\n",
    "\n",
    "\n",
    "def minCostRec(cost, s, d): \n",
    "  \n",
    "    if s == d or s+1 == d: return cost[s][d] \n",
    "    min_cost = cost[s][d] \n",
    "    for i in range(s+1, d): \n",
    "        c = minCostRec(cost,s, i) + minCostRec(cost, i, d) \n",
    "        if c < min_cost: \n",
    "            min_cost = c \n",
    "    return min_cost\n",
    "  \n",
    "\n",
    "cost = test_set\n",
    "\n",
    "print('The minimum cost to reach station 0 to all stations:')\n",
    "for i in range(1, len(cost[0])):\n",
    "    print('from first station to:', i)\n",
    "    print(minCostRec(cost, 0, i))\n"
   ]
  },
  {
   "cell_type": "markdown",
   "metadata": {},
   "source": [
    "    # OTHER AVAILABLE ONLINE SOLUTIONS TO THESE PROBLEMS\n",
    "    \n",
    "    # Best way to reach t\n",
    "    S = [1,2,3]\n",
    "    t = 3\n",
    "    def all_ways_to_reach_t(S, t):\n",
    "        all_solutions = []\n",
    "        if t == 0: return [[]]\n",
    "        for s in [s for s in S if s <= t]:\n",
    "            for g in all_ways_to_reach_t(S, t-s):\n",
    "                if g != None:\n",
    "                    each_solution = g + [s] \n",
    "                    all_solutions.append(each_solution)\n",
    "        return all_solutions\n",
    "    all_ways_to_reach_t(S,t)"
   ]
  },
  {
   "cell_type": "markdown",
   "metadata": {},
   "source": [
    "    # Best way to permutate\n",
    "    numbers = [1,2,3]\n",
    "\n",
    "    def permutation(S): # this function will shuffle all the items and output all permutations by USING ALL ELEMENTS\n",
    "        all_solutions = []\n",
    "        if len(S) == 0: return [[]]\n",
    "        for i, s in enumerate(S):\n",
    "            for g in permutation(S[:i] + S[i+1:]):\n",
    "                solution = g + [s]\n",
    "                all_solutions.append(solution)\n",
    "        return all_solutions\n",
    "\n",
    "    permutation(numbers)\n"
   ]
  },
  {
   "cell_type": "markdown",
   "metadata": {},
   "source": [
    "    # Partition the permutations according to their first element.\n",
    "    # Each permutation = first element + [permutation of all but first element]\n",
    "    # We will return a list of possible sets of size N\n",
    "    # if N = 1: list of lists of size 1, e.g.: [[3]], len(results) = N! = 1\n",
    "    # if N = 0: list of lists of size 0, e.g.: [[]], len(results) = N! = 0! = 1\n",
    "    # if N = 2: list of lists of size 2, e.g.: [[1,2], [2,1]], len(results) = N! = 2! = 2\n",
    "    def scratch_permutation(S):\n",
    "        result = []\n",
    "        # If there is no element in the set, return [[]]\n",
    "        if len(S) == 0: return [[]]\n",
    "        # Otherwise, write the partitioning by first element:\n",
    "        for i, future_first_item in enumerate(S):\n",
    "            # What are the remaining items to shuffle?\n",
    "            remain = S[:i] + S[i+1:]\n",
    "            # Create the list of all permutations of that remaining set\n",
    "            remain_perm = scratch_permutation(remain)\n",
    "            # Assemble the new permutations by sticking first_item in front of all of them\n",
    "            for end_perm in remain_perm:\n",
    "                result.append([future_first_item] + end_perm)\n",
    "        return result\n",
    "\n",
    "    scratch_permutation([1,2,4])\n",
    "    "
   ]
  },
  {
   "cell_type": "markdown",
   "metadata": {},
   "source": [
    "    # Print all possible strings of length j. In other words: print all subsequences with lenght j\n",
    "\n",
    "    results = []\n",
    "    def print_k_permutations(set, prefix, k, j): \n",
    "        n = len(set)\n",
    "        if (k == 0): \n",
    "            return results\n",
    "        for i in range(n): \n",
    "            newPrefix = prefix + set[i] \n",
    "            if len(newPrefix) == j:\n",
    "                results.append(newPrefix)\n",
    "            print_k_permutations(set, newPrefix, k - 1, j) \n",
    "        return results\n",
    "\n",
    "    # print(\"First Test\") \n",
    "    # set1 = ['a', 'b'] \n",
    "    # k1 = 2\n",
    "    # print_k_permutations(set1, '', k1, 2) \n",
    "\n",
    "    print(\"\\nSecond Test\") \n",
    "    set2 = ['a', 'b', 'c'] \n",
    "    print_k_permutations(set2, '', 2, 2) \n",
    "    "
   ]
  },
  {
   "cell_type": "markdown",
   "metadata": {},
   "source": [
    "    results = []\n",
    "    def print_k_perm_no_repetitions(set, prefix, k, j): \n",
    "        n = len(set)\n",
    "        if (k == 0): \n",
    "            return results\n",
    "        for i in range(n): \n",
    "            newPrefix = prefix + set[i] \n",
    "            remaining = set[:i] + set[i+1:]\n",
    "            if len(newPrefix) == j:\n",
    "                results.append(newPrefix)\n",
    "            print_k_perm_no_repetitions(remaining, newPrefix, k - 1, j) \n",
    "        return results\n",
    "\n",
    "    # print(\"First Test\") \n",
    "    # set1 = ['a', 'b'] \n",
    "    # k1 = 2\n",
    "    # print_k_permutations(set1, '', k1, 2) \n",
    "\n",
    "    print(\"\\nSecond Test\") \n",
    "    set2 = ['a', 'b', 'c', 'd'] \n",
    "    print_k_perm_no_repetitions(set2, '', 2, 2) "
   ]
  },
  {
   "cell_type": "markdown",
   "metadata": {},
   "source": [
    "    results = []\n",
    "    def print_k_comb(set, prefix, k, j): \n",
    "        n = len(set)\n",
    "        if (k == 0): \n",
    "            return results\n",
    "        for i in range(n): \n",
    "            newPrefix = prefix + set[i] \n",
    "            remaining = set[i+1:]\n",
    "            if len(newPrefix) == j:\n",
    "                results.append(newPrefix)\n",
    "            print_k_comb(remaining, newPrefix, k - 1, j) \n",
    "        return results\n",
    "\n",
    "    # print(\"First Test\") \n",
    "    # set1 = ['a', 'b'] \n",
    "    # k1 = 2\n",
    "    # print_k_permutations(set1, '', k1, 2) \n",
    "\n",
    "    print(\"\\nSecond Test\") \n",
    "    set2 = ['a', 'b', 'c', 'd'] \n",
    "    print_k_comb(set2, '', 2, 2) \n"
   ]
  },
  {
   "cell_type": "markdown",
   "metadata": {},
   "source": [
    "    # compute binomial coefficients (the number of ways to pick k items among n items) recursively\n",
    "    # That is: binom_coef(n, k) should be a sum that uses calls to binom_coef with n-1 instead of n\n",
    "    def binom(n, k):\n",
    "        if n < k:\n",
    "            return None\n",
    "        nom = 1\n",
    "        denom = 1\n",
    "        for i in range(k+1, n+1):  # 5 * 4 \n",
    "            nom = nom*i\n",
    "        for j in range(1, n-k+1):  # 2 * 1\n",
    "            denom = denom*j\n",
    "        return nom/denom\n",
    "\n",
    "    binom(5,3)  # 5*4*3*2*1 / [3*2*1 * 2*1]  simplify nominator ==  5*4 \n",
    "\n",
    "    # 123, 124, 125, 134, 135, 145, 234, 235, 245, 345"
   ]
  },
  {
   "cell_type": "markdown",
   "metadata": {},
   "source": [
    "    # now write a function to print out these items of the BINOMIAL COEFFICIENT\n",
    "    # output all combinations of 3 numbers picked from [1,2,3,4,5]\n",
    "    # no replacement, meaning no repeating numbers, n is the list, k is the length of combination\n",
    "    results = []\n",
    "    def print_k_comb(set, prefix, k, j): \n",
    "        n = len(set)\n",
    "        if (k == 0): return results\n",
    "        for i in range(n): \n",
    "            newPrefix = prefix + set[i] \n",
    "            remaining = set[i+1:]\n",
    "            if len(newPrefix) == j:\n",
    "                results.append(newPrefix)\n",
    "            print_k_comb(remaining, newPrefix, k - 1, j) \n",
    "        return results\n",
    "\n",
    "\n",
    "    set2 = ['1', '2', '3', '4', '5'] \n",
    "    print_k_comb(set2, '', 2, 2) "
   ]
  },
  {
   "cell_type": "markdown",
   "metadata": {},
   "source": [
    "    def palindrome(a):\n",
    "        if len(a) <= 1: return True\n",
    "        if a[0] != a[-1]: \n",
    "            return False\n",
    "        else:\n",
    "            return palindrome(a[1:-1])\n",
    "\n",
    "    palindrome('abckcba')\n",
    "    b = 'abccba'\n",
    "    print(b[1:-1]) # bccb  since [-1] is not included!!!"
   ]
  },
  {
   "cell_type": "code",
   "execution_count": null,
   "metadata": {},
   "outputs": [],
   "source": []
  }
 ],
 "metadata": {
  "kernelspec": {
   "display_name": "Python 3",
   "language": "python",
   "name": "python3"
  },
  "language_info": {
   "codemirror_mode": {
    "name": "ipython",
    "version": 3
   },
   "file_extension": ".py",
   "mimetype": "text/x-python",
   "name": "python",
   "nbconvert_exporter": "python",
   "pygments_lexer": "ipython3",
   "version": "3.7.4"
  }
 },
 "nbformat": 4,
 "nbformat_minor": 2
}
